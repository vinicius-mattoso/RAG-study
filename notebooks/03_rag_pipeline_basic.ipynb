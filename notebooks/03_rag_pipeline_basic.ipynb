{
 "cells": [
  {
   "cell_type": "markdown",
   "id": "039d53db",
   "metadata": {},
   "source": [
    "# 📓 03 - Pipeline RAG básico com FAISS + LLM (OpenAI API)\n",
    "\n",
    "Neste notebook, vamos:\n",
    "✅ Recuperar contexto relevante usando busca vetorial (FAISS).  \n",
    "✅ Usar um LLM (via OpenAI API) para gerar uma resposta final.  \n",
    "✅ Simular um pipeline RAG simples e funcional!\n",
    "\n",
    "---\n",
    "\n",
    "## ⚙️ Setup inicial"
   ]
  },
  {
   "cell_type": "code",
   "execution_count": 2,
   "id": "c3a110d7",
   "metadata": {},
   "outputs": [
    {
     "name": "stderr",
     "output_type": "stream",
     "text": [
      "c:\\Users\\vinicius\\Documents\\Projetos\\RAG-study\\.venv\\lib\\site-packages\\tqdm\\auto.py:21: TqdmWarning: IProgress not found. Please update jupyter and ipywidgets. See https://ipywidgets.readthedocs.io/en/stable/user_install.html\n",
      "  from .autonotebook import tqdm as notebook_tqdm\n"
     ]
    }
   ],
   "source": [
    "import os\n",
    "from dotenv import load_dotenv\n",
    "from sentence_transformers import SentenceTransformer\n",
    "import faiss\n",
    "from openai import OpenAI\n",
    "\n",
    "load_dotenv()\n",
    "\n",
    "# Inicializar cliente OpenAI\n",
    "client = OpenAI(api_key=os.getenv(\"OPENAI_API_KEY\"))"
   ]
  },
  {
   "cell_type": "markdown",
   "id": "4709af81",
   "metadata": {},
   "source": [
    "## 📝 1️⃣ Indexar alguns textos"
   ]
  },
  {
   "cell_type": "code",
   "execution_count": 3,
   "id": "2b218566",
   "metadata": {},
   "outputs": [],
   "source": [
    "texts = [\n",
    "    \"Retrieval-Augmented Generation (RAG) combina recuperação de informações e geração de linguagem natural.\",\n",
    "    \"O sol nasce no leste e se põe no oeste.\",\n",
    "    \"Python é uma linguagem de programação muito popular.\",\n",
    "    \"Modelos de linguagem podem gerar respostas criativas.\",\n",
    "    \"A IA está revolucionando diversos setores, como saúde e finanças.\"\n",
    "]\n",
    "\n",
    "model = SentenceTransformer(\"sentence-transformers/all-MiniLM-L6-v2\")\n",
    "embeddings = model.encode(texts, convert_to_numpy=True)\n",
    "faiss.normalize_L2(embeddings)\n",
    "\n",
    "dimension = embeddings.shape[1]\n",
    "index = faiss.IndexFlatIP(dimension)\n",
    "index.add(embeddings)"
   ]
  },
  {
   "cell_type": "markdown",
   "id": "86d05d5d",
   "metadata": {},
   "source": [
    "### 🔎 2️⃣ Função de recuperação de contexto"
   ]
  },
  {
   "cell_type": "code",
   "execution_count": 4,
   "id": "3ccacff1",
   "metadata": {},
   "outputs": [],
   "source": [
    "def search_top_k(query, k=3):\n",
    "    query_embedding = model.encode([query], convert_to_numpy=True)\n",
    "    faiss.normalize_L2(query_embedding)\n",
    "    distances, indices = index.search(query_embedding, k)\n",
    "    \n",
    "    retrieved_texts = [texts[idx] for idx in indices[0]]\n",
    "    return retrieved_texts"
   ]
  },
  {
   "cell_type": "markdown",
   "id": "f2e3ac16",
   "metadata": {},
   "source": [
    "### 🔧 3️⃣ Função para gerar resposta final usando OpenAI (RAG-like)"
   ]
  },
  {
   "cell_type": "code",
   "execution_count": 5,
   "id": "9b9032e4",
   "metadata": {},
   "outputs": [],
   "source": [
    "def generate_rag_response(query, retrieved_texts):\n",
    "    contexto = \"\\n\".join(retrieved_texts)\n",
    "    prompt = f\"\"\"\n",
    "Você é um assistente que responde perguntas com base no contexto abaixo.\n",
    "Contexto:\n",
    "{contexto}\n",
    "\n",
    "Pergunta: {query}\n",
    "Resposta:\n",
    "\"\"\"\n",
    "    response = client.chat.completions.create(\n",
    "        model=\"gpt-4o\",\n",
    "        messages=[\n",
    "            {\"role\": \"system\", \"content\": \"Você é um assistente útil.\"},\n",
    "            {\"role\": \"user\", \"content\": prompt}\n",
    "        ]\n",
    "    )\n",
    "    return response.choices[0].message.content.strip()"
   ]
  },
  {
   "cell_type": "markdown",
   "id": "74246408",
   "metadata": {},
   "source": [
    "### 🚀 4️⃣ Teste do pipeline RAG"
   ]
  },
  {
   "cell_type": "code",
   "execution_count": 6,
   "id": "389fa115",
   "metadata": {},
   "outputs": [
    {
     "name": "stdout",
     "output_type": "stream",
     "text": [
      "🔹 Contexto recuperado: ['A IA está revolucionando diversos setores, como saúde e finanças.', 'Python é uma linguagem de programação muito popular.', 'Modelos de linguagem podem gerar respostas criativas.']\n",
      "\n",
      "🔹 Resposta final:\n",
      "A IA está transformando as indústrias ao automatizar processos, aumentar a eficiência e proporcionar insights avançados a partir de grandes volumes de dados. No setor de saúde, a IA está sendo utilizada para melhorar diagnósticos, personalizar tratamentos e otimizar a gestão hospitalar. No campo das finanças, está sendo usada para detectar fraudes, melhorar a análise de risco e automatizar transações financeiras. Essa tecnologia está permitindo inovações que antes eram consideradas impossíveis, impulsionando mudanças significativas na forma como essas indústrias operam.\n"
     ]
    }
   ],
   "source": [
    "query = \"Como a IA está mudando as indústrias?\"\n",
    "\n",
    "# Recuperar contexto relevante\n",
    "contexto = search_top_k(query, k=3)\n",
    "print(\"🔹 Contexto recuperado:\", contexto)\n",
    "\n",
    "# Gerar resposta final\n",
    "resposta = generate_rag_response(query, contexto)\n",
    "print(\"\\n🔹 Resposta final:\")\n",
    "print(resposta)"
   ]
  },
  {
   "cell_type": "code",
   "execution_count": null,
   "id": "1b5abd48",
   "metadata": {},
   "outputs": [],
   "source": []
  }
 ],
 "metadata": {
  "kernelspec": {
   "display_name": ".venv",
   "language": "python",
   "name": "python3"
  },
  "language_info": {
   "codemirror_mode": {
    "name": "ipython",
    "version": 3
   },
   "file_extension": ".py",
   "mimetype": "text/x-python",
   "name": "python",
   "nbconvert_exporter": "python",
   "pygments_lexer": "ipython3",
   "version": "3.10.11"
  }
 },
 "nbformat": 4,
 "nbformat_minor": 5
}
