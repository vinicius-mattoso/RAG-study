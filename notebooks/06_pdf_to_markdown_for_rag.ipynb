{
 "cells": [
  {
   "cell_type": "markdown",
   "id": "4600ab24",
   "metadata": {},
   "source": [
    "# 📓 06 - Conversão de PDFs para Markdown para uso em RAG\n",
    "\n",
    "Neste notebook, vamos explorar diversas bibliotecas para:  \n",
    "✅ Extrair texto de PDFs reais.  \n",
    "✅ Converter o conteúdo em Markdown estruturado.  \n",
    "✅ Salvar arquivos `.md` prontos para uso em pipelines RAG.\n",
    "\n",
    "**Ferramentas que vamos comparar:**  \n",
    "- pypdf  \n",
    "- pdfminer.six  \n",
    "- unstructured  \n",
    "- docling (opcional, se instalável)\n",
    "\n",
    "---\n",
    "\n",
    "```python\n",
    "# Instale as bibliotecas necessárias (execute apenas uma vez)\n",
    " pip install pypdf pdfminer.six unstructured[local-inference] docling\n",
    "```"
   ]
  },
  {
   "cell_type": "code",
   "execution_count": 3,
   "id": "a4e8bf6d",
   "metadata": {},
   "outputs": [],
   "source": [
    "import os\n",
    "from pathlib import Path\n",
    "\n",
    "# Preparar pasta de saída para arquivos .md\n",
    "output_dir = Path(\"../data/output_markdown\")\n",
    "output_dir.mkdir(exist_ok=True)"
   ]
  },
  {
   "cell_type": "markdown",
   "id": "2d5e08da",
   "metadata": {},
   "source": [
    "## 1️⃣ Extraindo texto com pypdf"
   ]
  },
  {
   "cell_type": "code",
   "execution_count": 2,
   "id": "c92dc20c",
   "metadata": {},
   "outputs": [
    {
     "name": "stdout",
     "output_type": "stream",
     "text": [
      "Página 1\n",
      "    Retrieval-Augmented Generation (RAG) é uma técnica que une modelos de linguagem natural\n",
      "com recuperação de informações.\n",
      "    Essa fusão permite respostas mais precisas e atualizadas, aproveitando dados dinâmicos para\n",
      "enriquecer o contexto.\n",
      "Página 2\n",
      "    Uma das grandes vantagens do RAG é sua capacidade de trabalhar com dados externos, como\n",
      "bases de conhecimento e bancos de dados.\n",
      "    Isso o torna muito útil em setores como saúde, direito e atendimento ao cliente.\n",
      "Página 3\n",
      "    Apesar d\n"
     ]
    }
   ],
   "source": [
    "from pypdf import PdfReader\n",
    "\n",
    "def extract_text_pypdf(pdf_path):\n",
    "    reader = PdfReader(pdf_path)\n",
    "    text = \"\"\n",
    "    for page in reader.pages:\n",
    "        text += page.extract_text() + \"\\n\"\n",
    "    return text\n",
    "\n",
    "pdf_path = \"../data/exemplo_artigo_simples.pdf\"  # ajuste para o caminho real do seu PDF\n",
    "text_pypdf = extract_text_pypdf(pdf_path)\n",
    "print(text_pypdf[:500])"
   ]
  },
  {
   "cell_type": "markdown",
   "id": "75ea2846",
   "metadata": {},
   "source": [
    "### Salvar texto extraído como Markdown"
   ]
  },
  {
   "cell_type": "code",
   "execution_count": 4,
   "id": "95375547",
   "metadata": {},
   "outputs": [
    {
     "name": "stdout",
     "output_type": "stream",
     "text": [
      "🔹 Markdown salvo em: ..\\data\\output_markdown\\exemplo_pypdf.md\n"
     ]
    }
   ],
   "source": [
    "md_path = output_dir / \"exemplo_pypdf.md\"\n",
    "with open(md_path, \"w\", encoding=\"utf-8\") as f:\n",
    "    f.write(\"# Conteúdo extraído com pypdf\\n\\n\")\n",
    "    f.write(text_pypdf)\n",
    "\n",
    "print(f\"🔹 Markdown salvo em: {md_path}\")"
   ]
  },
  {
   "cell_type": "markdown",
   "id": "9050a561",
   "metadata": {},
   "source": [
    "## 2️⃣ Extraindo texto com pdfminer.six"
   ]
  },
  {
   "cell_type": "code",
   "execution_count": 5,
   "id": "a29e5baa",
   "metadata": {},
   "outputs": [
    {
     "name": "stdout",
     "output_type": "stream",
     "text": [
      "Página 1\n",
      "\n",
      "        Retrieval-Augmented  Generation  (RAG)  é  uma  técnica  que  une  modelos  de  linguagem  natural\n",
      "\n",
      "com recuperação de informações.\n",
      "\n",
      "    Essa fusão permite respostas mais precisas e atualizadas, aproveitando dados dinâmicos para\n",
      "\n",
      "enriquecer o contexto.\n",
      "\n",
      "\fPágina 2\n",
      "\n",
      "    Uma das grandes vantagens do RAG é sua capacidade de trabalhar com dados externos, como\n",
      "\n",
      "bases de conhecimento e bancos de dados.\n",
      "\n",
      "    Isso o torna muito útil em setores como saúde, direito e atendimento ao client\n"
     ]
    }
   ],
   "source": [
    "from pdfminer.high_level import extract_text\n",
    "\n",
    "def extract_text_pdfminer(pdf_path):\n",
    "    return extract_text(pdf_path)\n",
    "\n",
    "text_pdfminer = extract_text_pdfminer(pdf_path)\n",
    "print(text_pdfminer[:500])"
   ]
  },
  {
   "cell_type": "code",
   "execution_count": 6,
   "id": "1ceff566",
   "metadata": {},
   "outputs": [
    {
     "name": "stdout",
     "output_type": "stream",
     "text": [
      "🔹 Markdown salvo em: ..\\data\\output_markdown\\exemplo_pdfminer.md\n"
     ]
    }
   ],
   "source": [
    "md_path_pdfminer = output_dir / \"exemplo_pdfminer.md\"\n",
    "with open(md_path_pdfminer, \"w\", encoding=\"utf-8\") as f:\n",
    "    f.write(\"# Conteúdo extraído com pdfminer.six\\n\\n\")\n",
    "    f.write(text_pdfminer)\n",
    "\n",
    "print(f\"🔹 Markdown salvo em: {md_path_pdfminer}\")"
   ]
  },
  {
   "cell_type": "markdown",
   "id": "7a12c46c",
   "metadata": {},
   "source": [
    "## 3️⃣ Conversão para Markdown com unstructured"
   ]
  },
  {
   "cell_type": "code",
   "execution_count": 7,
   "id": "1c570570",
   "metadata": {},
   "outputs": [
    {
     "name": "stderr",
     "output_type": "stream",
     "text": [
      "c:\\Users\\vinicius\\Documents\\Projetos\\RAG-study\\.venv\\lib\\site-packages\\tqdm\\auto.py:21: TqdmWarning: IProgress not found. Please update jupyter and ipywidgets. See https://ipywidgets.readthedocs.io/en/stable/user_install.html\n",
      "  from .autonotebook import tqdm as notebook_tqdm\n"
     ]
    },
    {
     "name": "stdout",
     "output_type": "stream",
     "text": [
      "🔹 Markdown salvo em: ..\\data\\output_markdown\\exemplo_unstructured.md\n"
     ]
    }
   ],
   "source": [
    "from unstructured.partition.pdf import partition_pdf\n",
    "\n",
    "elements = partition_pdf(filename=pdf_path)\n",
    "text_unstructured = \"\\n\".join([el.text for el in elements if el.text])\n",
    "\n",
    "md_path_unstructured = output_dir / \"exemplo_unstructured.md\"\n",
    "with open(md_path_unstructured, \"w\", encoding=\"utf-8\") as f:\n",
    "    f.write(\"# Conteúdo extraído com unstructured\\n\\n\")\n",
    "    f.write(text_unstructured)\n",
    "\n",
    "print(f\"🔹 Markdown salvo em: {md_path_unstructured}\")"
   ]
  },
  {
   "cell_type": "markdown",
   "id": "dc4e92cb",
   "metadata": {},
   "source": [
    "## 4️⃣ Usando docling\n",
    "\n",
    "https://github.com/docling-project/docling"
   ]
  },
  {
   "cell_type": "code",
   "execution_count": 9,
   "id": "d16ab095",
   "metadata": {},
   "outputs": [
    {
     "name": "stderr",
     "output_type": "stream",
     "text": [
      "Downloading detection model, please wait. This may take several minutes depending upon your network connection.\n",
      "Downloading recognition model, please wait. This may take several minutes depending upon your network connection.\n",
      "c:\\Users\\vinicius\\Documents\\Projetos\\RAG-study\\.venv\\lib\\site-packages\\huggingface_hub\\file_download.py:143: UserWarning: `huggingface_hub` cache-system uses symlinks by default to efficiently store duplicated files but your machine does not support them in C:\\Users\\vinicius\\.cache\\huggingface\\hub\\models--ds4sd--docling-models. Caching files will still work but in a degraded version that might require more space on your disk. This warning can be disabled by setting the `HF_HUB_DISABLE_SYMLINKS_WARNING` environment variable. For more details, see https://huggingface.co/docs/huggingface_hub/how-to-cache#limitations.\n",
      "To support symlinks on Windows, you either need to activate Developer Mode or to run Python as an administrator. In order to activate developer mode, see this article: https://docs.microsoft.com/en-us/windows/apps/get-started/enable-your-device-for-development\n",
      "  warnings.warn(message)\n",
      "c:\\Users\\vinicius\\Documents\\Projetos\\RAG-study\\.venv\\lib\\site-packages\\numpy\\_core\\fromnumeric.py:3860: RuntimeWarning: Mean of empty slice.\n",
      "  return _methods._mean(a, axis=axis, dtype=dtype,\n",
      "c:\\Users\\vinicius\\Documents\\Projetos\\RAG-study\\.venv\\lib\\site-packages\\numpy\\_core\\_methods.py:145: RuntimeWarning: invalid value encountered in scalar divide\n",
      "  ret = ret.dtype.type(ret / rcount)\n",
      "c:\\Users\\vinicius\\Documents\\Projetos\\RAG-study\\.venv\\lib\\site-packages\\docling\\pipeline\\standard_pdf_pipeline.py:262: RuntimeWarning: Mean of empty slice\n",
      "  np.nanmean(\n",
      "c:\\Users\\vinicius\\Documents\\Projetos\\RAG-study\\.venv\\lib\\site-packages\\docling\\pipeline\\standard_pdf_pipeline.py:267: RuntimeWarning: Mean of empty slice\n",
      "  np.nanmean(\n"
     ]
    }
   ],
   "source": [
    "from docling.document_converter import DocumentConverter\n",
    "# Inicializa o conversor\n",
    "converter = DocumentConverter()\n",
    "\n",
    "# Converte o documento\n",
    "result = converter.convert(pdf_path)\n",
    "\n",
    "# Exporta o conteúdo para Markdown\n",
    "markdown_text = result.document.export_to_markdown()\n",
    "\n",
    "# Salva o conteúdo em um arquivo .md\n",
    "with open(output_dir / \"exemplo_docling.md\", \"w\", encoding=\"utf-8\") as f:\n",
    "    f.write(markdown_text)"
   ]
  },
  {
   "cell_type": "code",
   "execution_count": null,
   "id": "6edb13d7",
   "metadata": {},
   "outputs": [],
   "source": []
  }
 ],
 "metadata": {
  "kernelspec": {
   "display_name": ".venv",
   "language": "python",
   "name": "python3"
  },
  "language_info": {
   "codemirror_mode": {
    "name": "ipython",
    "version": 3
   },
   "file_extension": ".py",
   "mimetype": "text/x-python",
   "name": "python",
   "nbconvert_exporter": "python",
   "pygments_lexer": "ipython3",
   "version": "3.10.11"
  }
 },
 "nbformat": 4,
 "nbformat_minor": 5
}
