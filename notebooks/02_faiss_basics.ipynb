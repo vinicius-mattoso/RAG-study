{
 "cells": [
  {
   "cell_type": "markdown",
   "id": "4fdab0b6",
   "metadata": {},
   "source": [
    "# 📓 02 - Introdução ao FAISS e buscas vetoriais\n",
    "\n",
    "Neste notebook, vamos explorar como:\n",
    "✅ Gerar embeddings de texto.  \n",
    "✅ Indexar esses embeddings no FAISS.  \n",
    "✅ Fazer buscas vetoriais simples e entender similaridade.\n",
    "\n",
    "---\n",
    "\n",
    "## ⚙️ Setup inicial\n",
    "\n",
    "Vamos começar instalando as bibliotecas necessárias.\n",
    "\n",
    "```python\n",
    "# Instale as bibliotecas se ainda não estiverem\n",
    "# !pip install faiss-cpu sentence-transformers\n",
    "\n",
    "import faiss\n",
    "from sentence_transformers import SentenceTransformer\n",
    "import numpy as np\n",
    "```"
   ]
  },
  {
   "cell_type": "code",
   "execution_count": 2,
   "id": "07ef162a",
   "metadata": {},
   "outputs": [
    {
     "name": "stderr",
     "output_type": "stream",
     "text": [
      "c:\\Users\\vinicius\\Documents\\Projetos\\RAG-study\\.venv\\lib\\site-packages\\tqdm\\auto.py:21: TqdmWarning: IProgress not found. Please update jupyter and ipywidgets. See https://ipywidgets.readthedocs.io/en/stable/user_install.html\n",
      "  from .autonotebook import tqdm as notebook_tqdm\n"
     ]
    }
   ],
   "source": [
    "import faiss\n",
    "from sentence_transformers import SentenceTransformer\n",
    "import numpy as np"
   ]
  },
  {
   "cell_type": "markdown",
   "id": "78d56915",
   "metadata": {},
   "source": [
    "## 📝 1️⃣ Gerar embeddings de texto\n",
    "Vamos usar o modelo all-MiniLM-L6-v2 do Sentence Transformers, leve e eficiente para testes iniciais."
   ]
  },
  {
   "cell_type": "code",
   "execution_count": 3,
   "id": "0a05cb9f",
   "metadata": {},
   "outputs": [
    {
     "name": "stderr",
     "output_type": "stream",
     "text": [
      "c:\\Users\\vinicius\\Documents\\Projetos\\RAG-study\\.venv\\lib\\site-packages\\huggingface_hub\\file_download.py:143: UserWarning: `huggingface_hub` cache-system uses symlinks by default to efficiently store duplicated files but your machine does not support them in C:\\Users\\vinicius\\.cache\\huggingface\\hub\\models--sentence-transformers--all-MiniLM-L6-v2. Caching files will still work but in a degraded version that might require more space on your disk. This warning can be disabled by setting the `HF_HUB_DISABLE_SYMLINKS_WARNING` environment variable. For more details, see https://huggingface.co/docs/huggingface_hub/how-to-cache#limitations.\n",
      "To support symlinks on Windows, you either need to activate Developer Mode or to run Python as an administrator. In order to activate developer mode, see this article: https://docs.microsoft.com/en-us/windows/apps/get-started/enable-your-device-for-development\n",
      "  warnings.warn(message)\n",
      "Xet Storage is enabled for this repo, but the 'hf_xet' package is not installed. Falling back to regular HTTP download. For better performance, install the package with: `pip install huggingface_hub[hf_xet]` or `pip install hf_xet`\n"
     ]
    },
    {
     "name": "stdout",
     "output_type": "stream",
     "text": [
      "🔹 Embeddings shape: (5, 384)\n"
     ]
    }
   ],
   "source": [
    "# Carregar modelo de embeddings\n",
    "model = SentenceTransformer(\"sentence-transformers/all-MiniLM-L6-v2\")\n",
    "\n",
    "# Lista de textos de exemplo\n",
    "texts = [\n",
    "    \"Retrieval-Augmented Generation (RAG) combina recuperação de informações e geração de linguagem natural.\",\n",
    "    \"O sol nasce no leste e se põe no oeste.\",\n",
    "    \"Python é uma linguagem de programação muito popular.\",\n",
    "    \"Modelos de linguagem podem gerar respostas criativas.\",\n",
    "    \"A IA está revolucionando diversos setores.\"\n",
    "]\n",
    "\n",
    "# Gerar embeddings (convertidos para numpy)\n",
    "embeddings = model.encode(texts, convert_to_numpy=True)\n",
    "print(\"🔹 Embeddings shape:\", embeddings.shape)"
   ]
  },
  {
   "cell_type": "markdown",
   "id": "04e53573",
   "metadata": {},
   "source": [
    "## 🔍 2️⃣ Indexar embeddings no FAISS"
   ]
  },
  {
   "cell_type": "code",
   "execution_count": 4,
   "id": "8bf24bdf",
   "metadata": {},
   "outputs": [
    {
     "name": "stdout",
     "output_type": "stream",
     "text": [
      "🔹 Número de vetores indexados: 5\n"
     ]
    }
   ],
   "source": [
    "# Dimensão dos embeddings (deve bater com a saída do modelo)\n",
    "dimension = embeddings.shape[1]\n",
    "\n",
    "# Inicializar o índice FAISS (IndexFlatIP = Inner Product / similaridade por produto interno)\n",
    "index = faiss.IndexFlatIP(dimension)\n",
    "\n",
    "# Normalizar embeddings para usar similaridade de cosseno\n",
    "faiss.normalize_L2(embeddings)\n",
    "\n",
    "# Adicionar ao índice\n",
    "index.add(embeddings)\n",
    "print(\"🔹 Número de vetores indexados:\", index.ntotal)"
   ]
  },
  {
   "cell_type": "markdown",
   "id": "bc06cb82",
   "metadata": {},
   "source": [
    "## 🔎 3️⃣ Fazer uma busca vetorial simples"
   ]
  },
  {
   "cell_type": "code",
   "execution_count": 5,
   "id": "96a252e4",
   "metadata": {},
   "outputs": [
    {
     "name": "stdout",
     "output_type": "stream",
     "text": [
      "🔹 Resultados:\n",
      "Rank 1: Texto: A IA está revolucionando diversos setores. (Score: 0.5576)\n",
      "Rank 2: Texto: Python é uma linguagem de programação muito popular. (Score: 0.3936)\n",
      "Rank 3: Texto: Modelos de linguagem podem gerar respostas criativas. (Score: 0.3435)\n"
     ]
    }
   ],
   "source": [
    "# Pergunta de exemplo\n",
    "query = \"Como a IA está mudando as indústrias?\"\n",
    "\n",
    "# Gerar embedding da pergunta\n",
    "query_embedding = model.encode([query], convert_to_numpy=True)\n",
    "faiss.normalize_L2(query_embedding)\n",
    "\n",
    "# Buscar top-3 resultados mais similares\n",
    "k = 3\n",
    "distances, indices = index.search(query_embedding, k)\n",
    "\n",
    "print(\"🔹 Resultados:\")\n",
    "for i, idx in enumerate(indices[0]):\n",
    "    print(f\"Rank {i+1}: Texto: {texts[idx]} (Score: {distances[0][i]:.4f})\")"
   ]
  },
  {
   "cell_type": "code",
   "execution_count": null,
   "id": "c85a42a3",
   "metadata": {},
   "outputs": [],
   "source": []
  }
 ],
 "metadata": {
  "kernelspec": {
   "display_name": ".venv",
   "language": "python",
   "name": "python3"
  },
  "language_info": {
   "codemirror_mode": {
    "name": "ipython",
    "version": 3
   },
   "file_extension": ".py",
   "mimetype": "text/x-python",
   "name": "python",
   "nbconvert_exporter": "python",
   "pygments_lexer": "ipython3",
   "version": "3.10.11"
  }
 },
 "nbformat": 4,
 "nbformat_minor": 5
}
