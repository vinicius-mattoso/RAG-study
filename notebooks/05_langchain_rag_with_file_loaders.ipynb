{
 "cells": [
  {
   "cell_type": "markdown",
   "id": "73c4786b",
   "metadata": {},
   "source": [
    "\n",
    "# 📓 05 - RAG com LangChain carregando arquivos reais (.txt, .md, .csv)\n",
    "\n",
    "Neste notebook vamos:  \n",
    "✅ Carregar documentos reais usando loaders do LangChain.  \n",
    "✅ Indexar e buscar usando FAISS.  \n",
    "✅ Criar um pipeline RAG com `RetrievalQAChain`.  \n"
   ]
  },
  {
   "cell_type": "code",
   "execution_count": null,
   "id": "7bd24a8e",
   "metadata": {},
   "outputs": [],
   "source": [
    "\n",
    "# !pip install langchain langchain-community langchain-openai sentence-transformers faiss-cpu\n",
    "# !pip install python-dotenv pandas\n"
   ]
  },
  {
   "cell_type": "code",
   "execution_count": 1,
   "id": "a834597d",
   "metadata": {},
   "outputs": [],
   "source": [
    "\n",
    "import os\n",
    "from dotenv import load_dotenv\n",
    "from langchain_community.document_loaders import TextLoader, CSVLoader, UnstructuredMarkdownLoader\n",
    "from langchain.text_splitter import RecursiveCharacterTextSplitter\n",
    "from langchain_openai import OpenAIEmbeddings, ChatOpenAI\n",
    "from langchain_community.vectorstores import FAISS\n",
    "from langchain.chains import RetrievalQA\n"
   ]
  },
  {
   "cell_type": "code",
   "execution_count": 2,
   "id": "19019fd6",
   "metadata": {},
   "outputs": [],
   "source": [
    "\n",
    "load_dotenv()\n",
    "openai_api_key = os.getenv(\"OPENAI_API_KEY\")\n"
   ]
  },
  {
   "cell_type": "markdown",
   "id": "e11fe9d8",
   "metadata": {},
   "source": [
    "\n",
    "## 📝 1️⃣ Carregando arquivos reais (.txt, .md, .csv)\n"
   ]
  },
  {
   "cell_type": "code",
   "execution_count": 3,
   "id": "f189e83a",
   "metadata": {},
   "outputs": [],
   "source": [
    "from langchain.schema import Document\n",
    "import pandas as pd"
   ]
  },
  {
   "cell_type": "code",
   "execution_count": 10,
   "id": "5559c665",
   "metadata": {},
   "outputs": [],
   "source": [
    "# Só carrega TXT e CSV\n",
    "txt_loader = TextLoader(file_path=\"../data/exemplo.txt\", encoding=\"utf-8\")\n",
    "txt_docs = txt_loader.load()\n",
    "\n",
    "# csv_loader = CSVLoader(file_path=\"../data/exemplo.csv\")\n",
    "# csv_docs = csv_loader.load()\n",
    "\n",
    "# df = pd.read_csv(\"../data/exemplo.csv\")\n",
    "# table_md = df.to_markdown(index=False)\n",
    "# doc_csv = Document(page_content=table_md, metadata={\"source\": \"../data/exemplo.csv\"})\n",
    "\n",
    "md_loader = UnstructuredMarkdownLoader(file_path=\"../data/exemplo.md\")\n",
    "md_docs = md_loader.load()\n",
    "\n",
    "all_docs = txt_docs + md_docs"
   ]
  },
  {
   "cell_type": "markdown",
   "id": "0b8456bb",
   "metadata": {},
   "source": [
    "\n",
    "## ✂️ 2️⃣ Chunking dos documentos\n"
   ]
  },
  {
   "cell_type": "code",
   "execution_count": 11,
   "id": "7636386a",
   "metadata": {},
   "outputs": [
    {
     "name": "stdout",
     "output_type": "stream",
     "text": [
      "🔹 3 chunks criados ao todo\n"
     ]
    }
   ],
   "source": [
    "\n",
    "splitter = RecursiveCharacterTextSplitter(chunk_size=200, chunk_overlap=50)\n",
    "docs_split = splitter.split_documents(all_docs)\n",
    "\n",
    "print(f\"🔹 {len(docs_split)} chunks criados ao todo\")\n"
   ]
  },
  {
   "cell_type": "markdown",
   "id": "ef2b145d",
   "metadata": {},
   "source": [
    "\n",
    "## 💾 3️⃣ Indexar no FAISS\n"
   ]
  },
  {
   "cell_type": "code",
   "execution_count": 12,
   "id": "e9864d04",
   "metadata": {},
   "outputs": [
    {
     "name": "stdout",
     "output_type": "stream",
     "text": [
      "🔹 FAISS indexado com documentos reais!\n"
     ]
    }
   ],
   "source": [
    "\n",
    "embeddings = OpenAIEmbeddings(api_key=openai_api_key)\n",
    "vectorstore = FAISS.from_documents(docs_split, embeddings)\n",
    "\n",
    "print(\"🔹 FAISS indexado com documentos reais!\")\n"
   ]
  },
  {
   "cell_type": "markdown",
   "id": "82327335",
   "metadata": {},
   "source": [
    "\n",
    "## 🤖 4️⃣ Criar pipeline RAG com LangChain\n"
   ]
  },
  {
   "cell_type": "code",
   "execution_count": 13,
   "id": "9c7ef0bb",
   "metadata": {},
   "outputs": [
    {
     "name": "stdout",
     "output_type": "stream",
     "text": [
      "🔹 Resposta final: Os arquivos descrevem o funcionamento do Retrieval-Augmented Generation (RAG), que combina recuperação de informações e geração de linguagem natural. O RAG busca dados em fontes externas para fornecer respostas mais relevantes e atualizadas. Além disso, destacam as vantagens do RAG, como respostas mais completas e baseado em dados dinâmicos.\n",
      "\n",
      "🔹 Documentos recuperados:\n",
      "- ../data/exemplo.txt\n",
      "  Trecho: Retrieval-Augmented Generation (RAG) combina recuperação de informações e geração de linguagem natur ...\n",
      "- ../data/exemplo.md\n",
      "  Trecho: Vantagens do RAG\n",
      "\n",
      "Respostas mais completas\n",
      "\n",
      "Baseado em dados dinâmicos ...\n"
     ]
    }
   ],
   "source": [
    "\n",
    "llm = ChatOpenAI(api_key=openai_api_key, model=\"gpt-3.5-turbo\")  #\"gpt-4o\")\n",
    "qa_chain = RetrievalQA.from_chain_type(\n",
    "    llm=llm,\n",
    "    chain_type=\"stuff\",\n",
    "    retriever=vectorstore.as_retriever(search_kwargs={\"k\": 2}),\n",
    "    return_source_documents=True\n",
    ")\n",
    "\n",
    "query = \"O que está descrito nesses arquivos?\"\n",
    "result = qa_chain({\"query\": query})\n",
    "\n",
    "print(\"🔹 Resposta final:\", result[\"result\"])\n",
    "\n",
    "print(\"\\n🔹 Documentos recuperados:\")\n",
    "for doc in result[\"source_documents\"]:\n",
    "    print(f\"- {doc.metadata.get('source', 'desconhecido')}\")\n",
    "    print(\"  Trecho:\", doc.page_content[:100], \"...\")\n"
   ]
  },
  {
   "cell_type": "markdown",
   "id": "e274b5bd",
   "metadata": {},
   "source": [
    "\n",
    "## 🧐 Conclusão\n",
    "\n",
    "✅ Pipeline RAG agora carrega arquivos reais e gera respostas baseadas neles.  \n",
    "✅ Pronto para evoluir para outros bancos vetoriais ou fluxos mais complexos. 🚀\n"
   ]
  }
 ],
 "metadata": {
  "kernelspec": {
   "display_name": ".venv",
   "language": "python",
   "name": "python3"
  },
  "language_info": {
   "codemirror_mode": {
    "name": "ipython",
    "version": 3
   },
   "file_extension": ".py",
   "mimetype": "text/x-python",
   "name": "python",
   "nbconvert_exporter": "python",
   "pygments_lexer": "ipython3",
   "version": "3.10.11"
  }
 },
 "nbformat": 4,
 "nbformat_minor": 5
}
