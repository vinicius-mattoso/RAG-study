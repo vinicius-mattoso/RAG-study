{
 "cells": [
  {
   "cell_type": "markdown",
   "id": "17cb77f7",
   "metadata": {},
   "source": [
    "# 📓 01 - Modelos baseados em prompt (zero-shot e few-shot) vs. Fine-tuning\n",
    "\n",
    "Este notebook demonstra, na prática, como usar modelos baseados em prompts (zero-shot e few-shot) para tarefas de NLP, comparando-os ao conceito de fine-tuning (teórico, pois exige dataset e GPU).\n",
    "\n",
    "---\n",
    "\n",
    "## ⚙️ Setup inicial\n",
    "\n",
    "Vamos instalar e importar as bibliotecas necessárias.\n",
    "\n",
    "```python\n",
    "# Instalar a biblioteca se necessário\n",
    "pip install transformers\n",
    "\n",
    "from transformers import pipeline\n",
    "```"
   ]
  },
  {
   "cell_type": "code",
   "execution_count": 1,
   "id": "87f0252c",
   "metadata": {},
   "outputs": [
    {
     "name": "stderr",
     "output_type": "stream",
     "text": [
      "c:\\Users\\vinicius\\Documents\\Projetos\\RAG-study\\.venv\\lib\\site-packages\\tqdm\\auto.py:21: TqdmWarning: IProgress not found. Please update jupyter and ipywidgets. See https://ipywidgets.readthedocs.io/en/stable/user_install.html\n",
      "  from .autonotebook import tqdm as notebook_tqdm\n"
     ]
    }
   ],
   "source": [
    "from transformers import pipeline"
   ]
  },
  {
   "cell_type": "markdown",
   "id": "cf8bc35e",
   "metadata": {},
   "source": [
    "## 🔎 1️⃣ Exemplo zero-shot: Summarization"
   ]
  },
  {
   "cell_type": "code",
   "execution_count": 2,
   "id": "860da5cd",
   "metadata": {},
   "outputs": [
    {
     "name": "stderr",
     "output_type": "stream",
     "text": [
      "Device set to use cpu\n"
     ]
    },
    {
     "name": "stdout",
     "output_type": "stream",
     "text": [
      "🔹 Resumo gerado: Retrieval-Augmented Generation (RAG) combina recuperação de informações and geração of linguagem natural.Ele busca dados em fontes externas para\n"
     ]
    }
   ],
   "source": [
    "# Carregar um pipeline de summarization com modelo pré-treinado\n",
    "summarizer = pipeline(\"summarization\", model=\"facebook/bart-large-cnn\")\n",
    "\n",
    "# Texto para resumir\n",
    "texto = \"\"\"\n",
    "Retrieval-Augmented Generation (RAG) combina recuperação de informações e geração de linguagem natural.\n",
    "Ele busca dados em fontes externas para fornecer respostas mais relevantes e atualizadas.\n",
    "Essa técnica é muito útil em aplicações que precisam de dados dinâmicos e confiáveis.\n",
    "\"\"\"\n",
    "\n",
    "# Gerar resumo\n",
    "resumo = summarizer(texto, max_length=50, min_length=25, do_sample=False)\n",
    "print(\"🔹 Resumo gerado:\", resumo[0]['summary_text'])"
   ]
  },
  {
   "cell_type": "markdown",
   "id": "5725c810",
   "metadata": {},
   "source": [
    "## ✏️ 2️⃣ Few-shot prompting manual (usando prompt formatado)\n",
    "Neste exemplo, vamos \"simular\" um few-shot prompting manual, usando apenas texto, para mostrar como dar exemplos ajuda o modelo a entender melhor."
   ]
  },
  {
   "cell_type": "code",
   "execution_count": 6,
   "id": "aea4fc5c",
   "metadata": {},
   "outputs": [],
   "source": [
    "# Prompt few-shot: Incluímos exemplos no prompt!\n",
    "few_shot_prompt = \"\"\"\n",
    "Você é um assistente que resume textos em 1 frase.\n",
    "\n",
    "Exemplo 1:\n",
    "Texto: O sol nasce no leste e se põe no oeste. Ele aquece a Terra.\n",
    "Resumo: O sol aquece a Terra, surgindo no leste e se pondo no oeste.\n",
    "\n",
    "Agora, Texto:\n",
    "Retrieval-Augmented Generation (RAG) combina recuperação de informações e geração de linguagem natural.\n",
    "Ele busca dados em fontes externas para fornecer respostas mais relevantes e atualizadas.\n",
    "Essa técnica é muito útil em aplicações que precisam de dados dinâmicos e confiáveis.\n",
    "\"\"\""
   ]
  },
  {
   "cell_type": "code",
   "execution_count": 4,
   "id": "f9cc7c3d",
   "metadata": {},
   "outputs": [],
   "source": [
    "import os\n",
    "from dotenv import load_dotenv\n",
    "\n",
    "load_dotenv()\n",
    "api_key = os.getenv(\"OPENAI_API_KEY\")\n",
    "from openai import OpenAI\n",
    "client = OpenAI(api_key=api_key)"
   ]
  },
  {
   "cell_type": "code",
   "execution_count": 7,
   "id": "0589ed6a",
   "metadata": {},
   "outputs": [
    {
     "name": "stdout",
     "output_type": "stream",
     "text": [
      "🔹 Resumo gerado: RAG combina recuperação de informações e geração de linguagem natural para fornecer respostas relevantes e atualizadas, sendo útil em aplicações que necessitam de dados dinâmicos.\n"
     ]
    }
   ],
   "source": [
    "response = client.chat.completions.create(\n",
    "    model=\"gpt-4o\",\n",
    "    messages=[\n",
    "        {\"role\": \"system\", \"content\": \"Você é um assistente útil.\"},\n",
    "        {\"role\": \"user\", \"content\": few_shot_prompt}\n",
    "    ]\n",
    ")\n",
    "\n",
    "print(\"🔹 Resumo gerado:\", response.choices[0].message.content.strip())"
   ]
  },
  {
   "cell_type": "markdown",
   "id": "d8f8c1c8",
   "metadata": {},
   "source": [
    "## 🛠️ 3️⃣ (Teórico) Fine-tuning com HuggingFace\n",
    "Fine-tuning exige dados rotulados e geralmente GPUs. Vamos mostrar apenas o pipeline conceitual:\n",
    "\n",
    "```\n",
    "from transformers import AutoModelForSequenceClassification, Trainer, TrainingArguments\n",
    "\n",
    "model = AutoModelForSequenceClassification.from_pretrained(\"bert-base-uncased\", num_labels=2)\n",
    "\n",
    "training_args = TrainingArguments(\n",
    "    output_dir=\"./results\",\n",
    "    num_train_epochs=1,\n",
    "    per_device_train_batch_size=16,\n",
    "    evaluation_strategy=\"epoch\"\n",
    ")\n",
    "\n",
    "trainer = Trainer(\n",
    "    model=model,\n",
    "    args=training_args,\n",
    "    train_dataset=meu_dataset_treino,\n",
    "    eval_dataset=meu_dataset_val\n",
    ")\n",
    "\n",
    "# Iniciar treinamento\n",
    "trainer.train()\n",
    "```"
   ]
  },
  {
   "cell_type": "code",
   "execution_count": null,
   "id": "df1570bd",
   "metadata": {},
   "outputs": [],
   "source": []
  }
 ],
 "metadata": {
  "kernelspec": {
   "display_name": ".venv",
   "language": "python",
   "name": "python3"
  },
  "language_info": {
   "codemirror_mode": {
    "name": "ipython",
    "version": 3
   },
   "file_extension": ".py",
   "mimetype": "text/x-python",
   "name": "python",
   "nbconvert_exporter": "python",
   "pygments_lexer": "ipython3",
   "version": "3.10.11"
  }
 },
 "nbformat": 4,
 "nbformat_minor": 5
}
